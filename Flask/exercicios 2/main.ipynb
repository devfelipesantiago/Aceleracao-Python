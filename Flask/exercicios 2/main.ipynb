{
 "cells": [
  {
   "cell_type": "markdown",
   "id": "9342a4f7",
   "metadata": {},
   "source": [
    "Você foi contratado para desenvolver um aplicativo _web_ de gerenciamento de tarefas usando Flask e _templates_ do Jinja2. O aplicativo deve permitir aos usuários adicionar, visualizar e marcar tarefas como concluídas.\n",
    "\n",
    "**_Model_:**\n",
    "\n",
    "1 - Crie uma classe chamada `Task` que representa uma tarefa, com os atributos `id`, `title` e `completed`. 2 - Crie uma lista de tarefas no arquivo do aplicativo e inicialize-a com algumas tarefas de exemplo.\n",
    "\n",
    "**_View_:**\n",
    "\n",
    "3 - Crie um _template_ chamado `tasks.html` que exiba a lista de tarefas e forneça um formulário para adicionar novas tarefas. 4 - Use uma estrutura de repetição do Jinja2 para iterar sobre a lista de tarefas e exibi-las na página. 5 - Adicione um botão de marcação de conclusão para cada tarefa exibida, permitindo que os usuários marquem uma tarefa como concluída. 6 - Estilize a página usando CSS para torná-la atraente visualmente.\n",
    "\n",
    "**_Controller_:**\n",
    "\n",
    "7 - Crie uma rota ‘/‘ que renderize o _template_ `tasks.html`. 8 - No _template_, adicione um formulário para adicionar novas tarefas. 9 - Quando o usuário enviar uma nova tarefa, a rota deve adicionar a tarefa à lista de tarefas. 10 - Adicione uma rota adicional `'/complete/int:task_id'` que seja acionada quando um usuário marcar uma tarefa como concluída. Essa rota deve atualizar o estado da tarefa correspondente na lista de tarefas.\n",
    "\n",
    "Dicas:\n",
    "\n",
    "- Crie um arquivo separado para a classe `Task` e importe-o no arquivo do aplicativo Flask.\n",
    "- Use a função `render_template` do Flask para renderizar o _template_ `tasks.html`.\n",
    "- Passe a lista de tarefas para o _template_ como um argumento na função `render_template`.\n",
    "- No _template_, use a sintaxe do Jinja2 para iterar sobre a lista de tarefas e exibi-las.\n",
    "- Use arquivos CSS separados para estilizar a página, se desejar.\n",
    "- Utilize o método `POST` para enviar o formulário de adição de tarefas, e utilize o método `GET` para marcar tarefas como concluídas na rota `'/complete/int:task_id'`.\n",
    "- Na rota `'/complete/int:task_id'`, atualize o estado da tarefa correspondente na lista de tarefas com base no parâmetro `task_id` recebido."
   ]
  },
  {
   "cell_type": "code",
   "execution_count": null,
   "id": "748fc74a",
   "metadata": {},
   "outputs": [],
   "source": [
    "# models/Task.py\n",
    "class Task:\n",
    "    def __init__(self, id, title, completed=False):\n",
    "        self.id = id\n",
    "        self.title = title\n",
    "        self.completed = completed"
   ]
  },
  {
   "cell_type": "code",
   "execution_count": null,
   "id": "a6f08d62",
   "metadata": {},
   "outputs": [],
   "source": [
    "# controllers/task.py\n",
    "from flask import Blueprint, request, render_template\n",
    "from models.task import Task\n",
    "\n",
    "bp = Blueprint(\"tasks\", __name__)\n",
    "\n",
    "\n",
    "tasks = [\n",
    "    Task(1, \"Fazer compras\"),\n",
    "    Task(2, \"Estudar para a prova\"),\n",
    "    Task(3, \"Limpar a casa\"),\n",
    "]\n",
    "\n",
    "\n",
    "@bp.route(\"/\", methods=[\"GET\", \"POST\"])\n",
    "def tasks_view():\n",
    "    if request.method == \"POST\":\n",
    "        title = request.form[\"title\"]\n",
    "        new_task = Task(len(tasks) + 1, title)\n",
    "        tasks.append(new_task)\n",
    "\n",
    "    return render_template(\"tasks.html\", tasks=tasks)\n",
    "\n",
    "\n",
    "@bp.route(\"/complete/<int:task_id>\")\n",
    "def complete_task(task_id):\n",
    "    for task in tasks:\n",
    "        if task.id == task_id:\n",
    "            task.completed = True\n",
    "\n",
    "    return render_template(\"tasks.html\", tasks=tasks)"
   ]
  },
  {
   "cell_type": "code",
   "execution_count": null,
   "id": "cf8de023",
   "metadata": {},
   "outputs": [],
   "source": [
    "# app.py\n",
    "from flask import Flask\n",
    "from controllers import task\n",
    "\n",
    "app = Flask(__name__)\n",
    "\n",
    "\n",
    "app.register_blueprint(task.bp)\n",
    "\n",
    "\n",
    "if __name__ == \"__main__\":\n",
    "    app.run()"
   ]
  },
  {
   "cell_type": "code",
   "execution_count": null,
   "id": "dd5f3024",
   "metadata": {
    "vscode": {
     "languageId": "html"
    }
   },
   "outputs": [],
   "source": [
    "# templates/tasks.html\n",
    "<!DOCTYPE html>\n",
    "<html>\n",
    "<head>\n",
    "    <title>Gerenciador de Tarefas</title>\n",
    "    <link rel=\"stylesheet\" type=\"text/css\" href=\"{{ url_for('static', filename='styles.css') }}\">\n",
    "</head>\n",
    "<body>\n",
    "    <h1>Gerenciador de Tarefas</h1>\n",
    "    <h2>Tarefas:</h2>\n",
    "    <ul>\n",
    "        {% for task in tasks %}\n",
    "            <li {% if task.completed %}class=\"completed\"{% endif %}>\n",
    "                {{ task.title }}\n",
    "                {% if not task.completed %}\n",
    "                    <form method=\"GET\" action=\"/complete/{{ task.id }}\">\n",
    "                        <button type=\"submit\">Concluir</button>\n",
    "                    </form>\n",
    "                {% endif %}\n",
    "            </li>\n",
    "        {% endfor %}\n",
    "    </ul>\n",
    "    <h2>Adicionar Tarefa:</h2>\n",
    "    <form method=\"POST\" action=\"/\">\n",
    "        <input type=\"text\" name=\"title\" placeholder=\"Digite o título da tarefa\" required>\n",
    "        <button type=\"submit\">Adicionar</button>\n",
    "    </form>\n",
    "</body>\n",
    "</html>"
   ]
  },
  {
   "cell_type": "code",
   "execution_count": null,
   "id": "0a53f891",
   "metadata": {
    "vscode": {
     "languageId": "javascript"
    }
   },
   "outputs": [],
   "source": [
    "// static/styles.css\n",
    "\n",
    ".completed {\n",
    "    text-decoration: line-through;\n",
    "}"
   ]
  }
 ],
 "metadata": {
  "language_info": {
   "name": "python"
  }
 },
 "nbformat": 4,
 "nbformat_minor": 5
}
