{
 "cells": [
  {
   "cell_type": "markdown",
   "id": "92393460",
   "metadata": {},
   "source": [
    "## Exemplo de instalação do Flask\n",
    "O primeiro passo consiste em configurar e ativar o ambiente virtual, seguido da instalação do Flask."
   ]
  },
  {
   "cell_type": "code",
   "execution_count": null,
   "id": "6b84bd7d",
   "metadata": {
    "vscode": {
     "languageId": "shellscript"
    }
   },
   "outputs": [],
   "source": [
    "# Crie a pasta do projeto para organização\n",
    "mkdir hello-flask && cd hello-flask\n",
    "# Carregue o ambiente virtual para isolar as dependências do projeto\n",
    "python3 -m venv .venv && source .venv/bin/activate\n",
    "# Instale o Flask usando o gerenciador de pacotes pip\n",
    "pip install Flask"
   ]
  },
  {
   "cell_type": "markdown",
   "id": "4f0ce753",
   "metadata": {},
   "source": [
    "## Executando o Flask\n",
    "O arquivo principal de uma aplicação Flask, denominado `app.py`, é responsável por criar a instância da aplicação web e configurar sua execução, incluindo definições como porta, URL e modo de depuração. Nesse arquivo, você pode personalizar as configurações de sua aplicação e controlar como ela será executada e acessada.\n",
    "\n",
    "No arquivo `app.py`, é possível configurar as rotas da aplicação Flask, que são definidas por meio de métodos Python decorados com `@app.route(\"/\")`. Essas rotas determinam os diferentes caminhos ou URLs da aplicação, permitindo que o Flask saiba qual função executar quando um determinado caminho for acessado. Por exemplo:"
   ]
  },
  {
   "cell_type": "code",
   "execution_count": null,
   "id": "bebabc23",
   "metadata": {
    "vscode": {
     "languageId": "shellscript"
    }
   },
   "outputs": [],
   "source": [
    "touch app.py"
   ]
  },
  {
   "cell_type": "code",
   "execution_count": null,
   "id": "a336e002",
   "metadata": {},
   "outputs": [],
   "source": [
    "# app.py\n",
    "from flask import Flask\n",
    "app = Flask(__name__)  # Cria a instância da aplicação\n",
    "\n",
    "\n",
    "@app.route(\"/\")  # Cria uma rota, para a raiz do projeto. (GET por padrão)\n",
    "def hello_world():  # Método a ser executado ao navegar\n",
    "    return 'Hello World!'\n",
    "\n",
    "\n",
    "# Verifica se o script está sendo executado diretamente e executa a aplicação\n",
    "if __name__ == '__main__':\n",
    "    #  debug = True, reinicia automaticamente a cada mudança de arquivo\n",
    "    #  mude a porta, caso ela estiver em uso\n",
    "    app.run(debug=True, host='0.0.0.0', port=8000)"
   ]
  },
  {
   "cell_type": "markdown",
   "id": "083c0b49",
   "metadata": {},
   "source": [
    "## Retorno em JSON\n",
    "Você pode estar se perguntando: “Será que é complicado retornar um JSON API?”.\n",
    "\n",
    "Na verdade, é muito simples com o Flask! A função `jsonify` é uma verdadeira ajuda, pois ela retorna um objeto `Response` do Flask com o cabeçalho `Content-Type: application/json`. Ou seja: boa parte dos detalhes de implementação é abstraído, tornando o desenvolvimento da sua API ainda mais rápido e eficiente.\n",
    "\n",
    "Agora, vamos criar uma nova rota em localhost:8000/api, que irá retornar uma resposta em formato JSON usando a classe `flask.Response`."
   ]
  },
  {
   "cell_type": "code",
   "execution_count": null,
   "id": "bfe120e4",
   "metadata": {},
   "outputs": [],
   "source": [
    "# app.py\n",
    "from flask import Flask, jsonify\n",
    "\n",
    "#...\n",
    "@app.route(\"/api/\")\n",
    "def api_hello_world():\n",
    "    return jsonify({'mensagem': 'Hello World!'})\n",
    "#..."
   ]
  }
 ],
 "metadata": {
  "language_info": {
   "name": "python"
  }
 },
 "nbformat": 4,
 "nbformat_minor": 5
}
