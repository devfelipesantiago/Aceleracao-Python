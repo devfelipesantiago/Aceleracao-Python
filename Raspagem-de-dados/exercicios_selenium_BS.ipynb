{
 "cells": [
  {
   "cell_type": "markdown",
   "id": "ed05a6ca",
   "metadata": {},
   "source": [
    "Exercício 1\n",
    "Com o Selenium, faça uma requisição para o endpoint https://quotes.toscrape.com/ e imprima a primeira citação que aparece na página."
   ]
  },
  {
   "cell_type": "code",
   "execution_count": null,
   "id": "b53a8eae",
   "metadata": {},
   "outputs": [
    {
     "name": "stdout",
     "output_type": "stream",
     "text": [
      "“The world as we have created it is a process of our thinking. It cannot be changed without changing our thinking.”\n"
     ]
    }
   ],
   "source": [
    "from selenium import webdriver\n",
    "from selenium.webdriver.common.by import By\n",
    "\n",
    "driver = webdriver.Chrome()\n",
    "driver.get(\"https://quotes.toscrape.com/\")\n",
    "citacao = driver.find_element(By.CLASS_NAME, \"text\").get_attribute(\"innerHTML\")\n",
    "print(citacao)\n",
    "driver.quit()"
   ]
  },
  {
   "cell_type": "markdown",
   "id": "67f79a14",
   "metadata": {},
   "source": [
    "Exercício 2\n",
    "Imprima todos os parágrafos da página https://www.wikimetal.com.br/iron-maiden-scorpions-kiss-veja-melhores-albuns-1982/."
   ]
  },
  {
   "cell_type": "code",
   "execution_count": 22,
   "id": "d7d24f77",
   "metadata": {},
   "outputs": [
    {
     "name": "stdout",
     "output_type": "stream",
     "text": [
      "O rock e metal estavam em plena forma em 1982, com o lançamento de álbuns históricos de bandas como Iron Maiden, Scorpions e Kiss, que foram eleitos os melhores daquele ano pelo público do Wikimetal. \n",
      "Publicamos uma enquete com 11 concorrentes para descobrir o disco favorito de quem nos acompanha. No primeiro lugar, não haviam muitas dúvidas que The Number of The Beast seria campeão, com 51% dos votos totais. \n",
      "Na segunda posição ficou Blackout, do Scorpions, recebeu 16% dos votos, seguido por Creatures of The Night, do Kiss, com 9% de todos os votos. Vale ainda uma menção aos álbuns Screaming For Vengeance, do Judas Priest, e Iron Fist, do Motörhead, que entraram no Top 5. \n",
      "Veja o resultado completo da votação abaixo. \n",
      "Qual é o melhor álbum de 1982?\n",
      "LEIA TAMBÉM: ‘Vol. 4’, do Black Sabbath, é eleito o melhor álbum de 1972 pelos leitores do Wikimetal\n",
      "Com um time formado por mais de 20 repórteres e fotógrafos, a redação do Wikimetal traz todos os dias notícias, coberturas, entrevistas e outros conteúdos relevantes no mundo do rock e do metal.\n",
      "Copyright © 2025 Wikimetal. All rights reserved\n"
     ]
    }
   ],
   "source": [
    "from selenium.webdriver.chrome.options import Options as ChromeOptions\n",
    "options = ChromeOptions()\n",
    "options.add_argument('--headless=new')\n",
    "driver = webdriver.Chrome(options=options)\n",
    "\n",
    "driver.get(' https://www.wikimetal.com.br/iron-maiden-scorpions-kiss-veja-melhores-albuns-1982/')\n",
    "paragrafos = driver.find_elements(By.TAG_NAME, 'p')\n",
    "for p in paragrafos:\n",
    "    print(p.text)\n",
    "\n",
    "driver.quit()"
   ]
  },
  {
   "cell_type": "markdown",
   "id": "d32b7d42",
   "metadata": {},
   "source": [
    "Exercício 3\n",
    "Utilizando a ferramenta Selenium, no site https://diolinux.com.br/, faça a extração dos campos título e link para cada post da página inicial."
   ]
  },
  {
   "cell_type": "code",
   "execution_count": 32,
   "id": "3bec4fff",
   "metadata": {},
   "outputs": [
    {
     "name": "stdout",
     "output_type": "stream",
     "text": [
      "Ubuntu 25.10 “Questing Quokka” — O que você precisa saber antes de instalar? -> https://diolinux.com.br/sistemas-operacionais/ubuntu/ubuntu-25-10.html\n",
      "Omarchy, o Linux que NÃO foi feito para você (e por isso mesmo é genial) -> https://diolinux.com.br/reviews/omarchy-nao-foi-feito-para-voce.html\n",
      "Zorin OS Pro vale a pena? Entenda o que muda em relação à versão gratuita -> https://diolinux.com.br/sistemas-operacionais/zorin-os/zorin-os-pro-vale-a-pena.html\n",
      "Instagram com dublagem por IA, elementary OS 8.1, Ubuntu 25.10 e Zorin OS 18 -> https://diolinux.com.br/noticias/elementary-os-ubuntu-zorin-os.html\n",
      "QCY MeloBuds N70: muita versatilidade e som caprichado -> https://diolinux.com.br/reviews/qcy-melobuds-n70.html\n",
      "MIT dobra a precisão dos relógios atômicos ao reduzir o ruído quântico -> https://diolinux.com.br/noticias/mit-precisao-dos-relogios-atomicos.html\n",
      "Microsoft remove mais bloqueios de compatibilidade para atualização do Windows 11 -> https://diolinux.com.br/noticias/bloq-compatibilidade-windows-11.html\n",
      "Novo botão do Facebook permite que a IA analise fotos que você ainda não enviou -> https://diolinux.com.br/noticias/novo-botao-do-facebook.html\n",
      "Ubuntu 25.10 “Questing Quokka” — O que você precisa saber antes de instalar? -> https://diolinux.com.br/sistemas-operacionais/ubuntu/ubuntu-25-10.html\n",
      "Microsoft corrige falha mais grave já registrada no ASP.NET Core -> https://diolinux.com.br/noticias/microsoft-corrige-asp-net-core.html\n",
      "Interrupção na AWS provoca apagão digital global, afetando do Fortnite ao Pix&nbsp; -> https://diolinux.com.br/noticias/interrupcao-na-aws.html\n",
      "Código RUIM é SUPER comum, mas VOCÊ sabe identificar? - Diocast&nbsp;com Filipe Deschamps -> https://diolinux.com.br/podcast/bom-codigo-nao-e-o-que-voce-pensa.html\n",
      "Impressão 3D do Hobby Ao Profissional - Diocast com 3D Geek Show -> https://diolinux.com.br/podcast/dicas-de-negocios-com-3d-geek-show.html\n",
      "O que quase todos ERRAM ao Comprar um PC GAMER BARATO - Diocast com TecnoArt -> https://diolinux.com.br/podcast/o-que-todos-erram-ao-comprar-um-pc-gamer-barato.html\n",
      "4 programas para criar seu pendrive bootável -> https://diolinux.com.br/softwares/4-programas-para-pendrive-bootavel.html\n",
      "Testamos 20 distros Linux pra te ajudar a escolher a melhor em 2024 -> https://diolinux.com.br/testes-e-benchmarks/testamos-20-distros-linux.html\n",
      "Testamos 6 alternativas ao Microsoft Office. Qual a melhor? -> https://diolinux.com.br/video/alternativas-ao-microsoft-office.html\n",
      "Entenda o que é o Linux Gutta e veja se compensa ter um computador com ele -> https://diolinux.com.br/video/entenda-o-que-e-o-linux-gutta.html\n",
      "MiniOS, um Linux para pen drive -> https://diolinux.com.br/sistemas-operacionais/minios-linux-pen-drive.html\n",
      "5 maneiras de instalar arquivos .deb no Ubuntu e outras distros -> https://diolinux.com.br/tutoriais/instalar-arquivos-deb-no-ubuntu.html\n"
     ]
    }
   ],
   "source": [
    "from selenium.webdriver.chrome.options import Options as ChromeOptions\n",
    "options = ChromeOptions()\n",
    "options.add_argument('--headless=new')\n",
    "\n",
    "\n",
    "driver = webdriver.Chrome(options=options)\n",
    "driver.get(\"https://diolinux.com.br/\")\n",
    "driver.implicitly_wait(5)\n",
    "\n",
    "SELETOR_LINKS_POSTS = \"h3.entry-title a\"\n",
    "links_posts = driver.find_elements(By.CSS_SELECTOR, SELETOR_LINKS_POSTS)\n",
    "\n",
    "if not links_posts:\n",
    "    print(\"Nenhum link de post encontrado\")\n",
    "\n",
    "for link in links_posts:\n",
    "    print(link.get_attribute('innerHTML'), link.get_attribute(\"href\"), sep=\" -> \")\n",
    "\n",
    "driver.quit()"
   ]
  },
  {
   "cell_type": "markdown",
   "id": "97cf2616",
   "metadata": {},
   "source": [
    "Exercício 4\n",
    "Com o Beautiful Soup, faça a extração de todos os links da página https://pt.wikipedia.org/wiki/Rock_in_Rio."
   ]
  },
  {
   "cell_type": "code",
   "execution_count": null,
   "id": "633ff3ec",
   "metadata": {},
   "outputs": [],
   "source": [
    "import requests\n",
    "from bs4 import BeautifulSoup\n",
    "\n",
    "html = requests.get(\"https://pt.wikipedia.org/wiki/Rock_in_Rio\")\n",
    "\n",
    "URL = \"https://pt.wikipedia.org\"\n",
    "html = requests.get(f\"{URL}/wiki/Rock_in_Rio\")\n",
    "\n",
    "page = html.text\n",
    "bs_page = BeautifulSoup(page, \"html.parser\")\n",
    "\n",
    "\n",
    "def create_url(url: str, urn: str) -> str:\n",
    "    \"\"\"Creates an URL from a URN and a URI\n",
    "\n",
    "    Parameters\n",
    "    ----------\n",
    "    url : str\n",
    "        Universal Resource Locator\n",
    "    urn : str\n",
    "        Universal Resource Name\n",
    "\n",
    "    Returns\n",
    "    -------\n",
    "    str\n",
    "        Universal Resource Identifier (URL)\n",
    "    \"\"\"\n",
    "\n",
    "    url = url[:-1] if url[-1] == \"/\" else url\n",
    "    urn = urn[1:] if urn[0] == \"/\" else urn\n",
    "    return f\"{url}/{urn}\"\n",
    "\n",
    "\n",
    "def transform_wiki_links(link: str) -> str:\n",
    "    return link if link[:4] == \"http\" else create_url(URL, link)\n",
    "\n",
    "\n",
    "links = [\n",
    "    transform_wiki_links(anchor[\"href\"])\n",
    "    for anchor in bs_page.findAll(\"a\")\n",
    "    if anchor.get(\"href\") is not None\n",
    "]\n",
    "\n",
    "for link in links:\n",
    "    print(link)\n"
   ]
  }
 ],
 "metadata": {
  "kernelspec": {
   "display_name": ".venv",
   "language": "python",
   "name": "python3"
  },
  "language_info": {
   "codemirror_mode": {
    "name": "ipython",
    "version": 3
   },
   "file_extension": ".py",
   "mimetype": "text/x-python",
   "name": "python",
   "nbconvert_exporter": "python",
   "pygments_lexer": "ipython3",
   "version": "3.13.3"
  }
 },
 "nbformat": 4,
 "nbformat_minor": 5
}
